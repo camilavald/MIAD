{
  "cells": [
    {
      "cell_type": "markdown",
      "metadata": {
        "id": "bN3xe6ocLiNf"
      },
      "source": [
        "![image info](https://raw.githubusercontent.com/albahnsen/MIAD_ML_and_NLP/main/images/banner_1.png)"
      ]
    },
    {
      "cell_type": "markdown",
      "metadata": {
        "id": "KUTinPWCLiNj"
      },
      "source": [
        "# Taller: Análisis de sentimientos y técnicas de NLP\n",
        "\n",
        "En este taller podrán poner en práctica sus conocimientos sobre las diferentes técnicas para el procesamiento de lenguaje natural. El taller está constituido por 5 puntos, en los cuales deberan seguir las intrucciones de cada numeral para su desarrollo."
      ]
    },
    {
      "cell_type": "markdown",
      "metadata": {
        "id": "b_CRLiEcLiNk"
      },
      "source": [
        "## Datos predicción sentimientos de viajeros en Twitter\n",
        "\n",
        "En este taller se usará el conjunto de datos de sentimientos sobre distintas aerolíneas de EE.UU. provenientes de Twitter. Cada observación contiene si el sentimiento de los tweets es positivo, neutral o negativo teniendo en cuenta distintas variables como aerolínea y las razones de los sentimientos negativos (como \"retraso en el vuelo\" o \"servicio grosero\"). El objetivo es predecir el sentimiento asociado a cada tweet. Para más detalles pueden visitar el siguiente enlace: [datos](https://www.kaggle.com/crowdflower/twitter-airline-sentiment)."
      ]
    },
    {
      "cell_type": "code",
      "execution_count": 1,
      "metadata": {
        "id": "IaBFNtc2LiNl"
      },
      "outputs": [],
      "source": [
        "import warnings\n",
        "warnings.filterwarnings('ignore')"
      ]
    },
    {
      "cell_type": "code",
      "execution_count": 2,
      "metadata": {
        "id": "NdEzu15nLiNm"
      },
      "outputs": [],
      "source": [
        "# Importación de librerías\n",
        "import pandas as pd\n",
        "import numpy as np\n",
        "%matplotlib inline\n",
        "import matplotlib.pyplot as plt"
      ]
    },
    {
      "cell_type": "code",
      "execution_count": 3,
      "metadata": {
        "colab": {
          "base_uri": "https://localhost:8080/",
          "height": 325
        },
        "id": "ugkx9obPLiNn",
        "outputId": "5cedc3af-2d3b-4d93-8540-7b8e1f1ddf94"
      },
      "outputs": [
        {
          "output_type": "execute_result",
          "data": {
            "text/plain": [
              "                   airline_sentiment  airline_sentiment_confidence  \\\n",
              "tweet_id                                                             \n",
              "570306133677760513           neutral                        1.0000   \n",
              "570301130888122368          positive                        0.3486   \n",
              "570301083672813571           neutral                        0.6837   \n",
              "570301031407624196          negative                        1.0000   \n",
              "570300817074462722          negative                        1.0000   \n",
              "\n",
              "                   negativereason  negativereason_confidence         airline  \\\n",
              "tweet_id                                                                       \n",
              "570306133677760513            NaN                        NaN  Virgin America   \n",
              "570301130888122368            NaN                     0.0000  Virgin America   \n",
              "570301083672813571            NaN                        NaN  Virgin America   \n",
              "570301031407624196     Bad Flight                     0.7033  Virgin America   \n",
              "570300817074462722     Can't Tell                     1.0000  Virgin America   \n",
              "\n",
              "                   airline_sentiment_gold        name negativereason_gold  \\\n",
              "tweet_id                                                                    \n",
              "570306133677760513                    NaN     cairdin                 NaN   \n",
              "570301130888122368                    NaN    jnardino                 NaN   \n",
              "570301083672813571                    NaN  yvonnalynn                 NaN   \n",
              "570301031407624196                    NaN    jnardino                 NaN   \n",
              "570300817074462722                    NaN    jnardino                 NaN   \n",
              "\n",
              "                    retweet_count  \\\n",
              "tweet_id                            \n",
              "570306133677760513              0   \n",
              "570301130888122368              0   \n",
              "570301083672813571              0   \n",
              "570301031407624196              0   \n",
              "570300817074462722              0   \n",
              "\n",
              "                                                                 text  \\\n",
              "tweet_id                                                                \n",
              "570306133677760513                @VirginAmerica What @dhepburn said.   \n",
              "570301130888122368  @VirginAmerica plus you've added commercials t...   \n",
              "570301083672813571  @VirginAmerica I didn't today... Must mean I n...   \n",
              "570301031407624196  @VirginAmerica it's really aggressive to blast...   \n",
              "570300817074462722  @VirginAmerica and it's a really big bad thing...   \n",
              "\n",
              "                   tweet_coord              tweet_created tweet_location  \\\n",
              "tweet_id                                                                   \n",
              "570306133677760513         NaN  2015-02-24 11:35:52 -0800            NaN   \n",
              "570301130888122368         NaN  2015-02-24 11:15:59 -0800            NaN   \n",
              "570301083672813571         NaN  2015-02-24 11:15:48 -0800      Lets Play   \n",
              "570301031407624196         NaN  2015-02-24 11:15:36 -0800            NaN   \n",
              "570300817074462722         NaN  2015-02-24 11:14:45 -0800            NaN   \n",
              "\n",
              "                                 user_timezone  \n",
              "tweet_id                                        \n",
              "570306133677760513  Eastern Time (US & Canada)  \n",
              "570301130888122368  Pacific Time (US & Canada)  \n",
              "570301083672813571  Central Time (US & Canada)  \n",
              "570301031407624196  Pacific Time (US & Canada)  \n",
              "570300817074462722  Pacific Time (US & Canada)  "
            ],
            "text/html": [
              "\n",
              "  <div id=\"df-eb2db31c-8c9f-41c9-8e71-e4c23d7e82c5\" class=\"colab-df-container\">\n",
              "    <div>\n",
              "<style scoped>\n",
              "    .dataframe tbody tr th:only-of-type {\n",
              "        vertical-align: middle;\n",
              "    }\n",
              "\n",
              "    .dataframe tbody tr th {\n",
              "        vertical-align: top;\n",
              "    }\n",
              "\n",
              "    .dataframe thead th {\n",
              "        text-align: right;\n",
              "    }\n",
              "</style>\n",
              "<table border=\"1\" class=\"dataframe\">\n",
              "  <thead>\n",
              "    <tr style=\"text-align: right;\">\n",
              "      <th></th>\n",
              "      <th>airline_sentiment</th>\n",
              "      <th>airline_sentiment_confidence</th>\n",
              "      <th>negativereason</th>\n",
              "      <th>negativereason_confidence</th>\n",
              "      <th>airline</th>\n",
              "      <th>airline_sentiment_gold</th>\n",
              "      <th>name</th>\n",
              "      <th>negativereason_gold</th>\n",
              "      <th>retweet_count</th>\n",
              "      <th>text</th>\n",
              "      <th>tweet_coord</th>\n",
              "      <th>tweet_created</th>\n",
              "      <th>tweet_location</th>\n",
              "      <th>user_timezone</th>\n",
              "    </tr>\n",
              "    <tr>\n",
              "      <th>tweet_id</th>\n",
              "      <th></th>\n",
              "      <th></th>\n",
              "      <th></th>\n",
              "      <th></th>\n",
              "      <th></th>\n",
              "      <th></th>\n",
              "      <th></th>\n",
              "      <th></th>\n",
              "      <th></th>\n",
              "      <th></th>\n",
              "      <th></th>\n",
              "      <th></th>\n",
              "      <th></th>\n",
              "      <th></th>\n",
              "    </tr>\n",
              "  </thead>\n",
              "  <tbody>\n",
              "    <tr>\n",
              "      <th>570306133677760513</th>\n",
              "      <td>neutral</td>\n",
              "      <td>1.0000</td>\n",
              "      <td>NaN</td>\n",
              "      <td>NaN</td>\n",
              "      <td>Virgin America</td>\n",
              "      <td>NaN</td>\n",
              "      <td>cairdin</td>\n",
              "      <td>NaN</td>\n",
              "      <td>0</td>\n",
              "      <td>@VirginAmerica What @dhepburn said.</td>\n",
              "      <td>NaN</td>\n",
              "      <td>2015-02-24 11:35:52 -0800</td>\n",
              "      <td>NaN</td>\n",
              "      <td>Eastern Time (US &amp; Canada)</td>\n",
              "    </tr>\n",
              "    <tr>\n",
              "      <th>570301130888122368</th>\n",
              "      <td>positive</td>\n",
              "      <td>0.3486</td>\n",
              "      <td>NaN</td>\n",
              "      <td>0.0000</td>\n",
              "      <td>Virgin America</td>\n",
              "      <td>NaN</td>\n",
              "      <td>jnardino</td>\n",
              "      <td>NaN</td>\n",
              "      <td>0</td>\n",
              "      <td>@VirginAmerica plus you've added commercials t...</td>\n",
              "      <td>NaN</td>\n",
              "      <td>2015-02-24 11:15:59 -0800</td>\n",
              "      <td>NaN</td>\n",
              "      <td>Pacific Time (US &amp; Canada)</td>\n",
              "    </tr>\n",
              "    <tr>\n",
              "      <th>570301083672813571</th>\n",
              "      <td>neutral</td>\n",
              "      <td>0.6837</td>\n",
              "      <td>NaN</td>\n",
              "      <td>NaN</td>\n",
              "      <td>Virgin America</td>\n",
              "      <td>NaN</td>\n",
              "      <td>yvonnalynn</td>\n",
              "      <td>NaN</td>\n",
              "      <td>0</td>\n",
              "      <td>@VirginAmerica I didn't today... Must mean I n...</td>\n",
              "      <td>NaN</td>\n",
              "      <td>2015-02-24 11:15:48 -0800</td>\n",
              "      <td>Lets Play</td>\n",
              "      <td>Central Time (US &amp; Canada)</td>\n",
              "    </tr>\n",
              "    <tr>\n",
              "      <th>570301031407624196</th>\n",
              "      <td>negative</td>\n",
              "      <td>1.0000</td>\n",
              "      <td>Bad Flight</td>\n",
              "      <td>0.7033</td>\n",
              "      <td>Virgin America</td>\n",
              "      <td>NaN</td>\n",
              "      <td>jnardino</td>\n",
              "      <td>NaN</td>\n",
              "      <td>0</td>\n",
              "      <td>@VirginAmerica it's really aggressive to blast...</td>\n",
              "      <td>NaN</td>\n",
              "      <td>2015-02-24 11:15:36 -0800</td>\n",
              "      <td>NaN</td>\n",
              "      <td>Pacific Time (US &amp; Canada)</td>\n",
              "    </tr>\n",
              "    <tr>\n",
              "      <th>570300817074462722</th>\n",
              "      <td>negative</td>\n",
              "      <td>1.0000</td>\n",
              "      <td>Can't Tell</td>\n",
              "      <td>1.0000</td>\n",
              "      <td>Virgin America</td>\n",
              "      <td>NaN</td>\n",
              "      <td>jnardino</td>\n",
              "      <td>NaN</td>\n",
              "      <td>0</td>\n",
              "      <td>@VirginAmerica and it's a really big bad thing...</td>\n",
              "      <td>NaN</td>\n",
              "      <td>2015-02-24 11:14:45 -0800</td>\n",
              "      <td>NaN</td>\n",
              "      <td>Pacific Time (US &amp; Canada)</td>\n",
              "    </tr>\n",
              "  </tbody>\n",
              "</table>\n",
              "</div>\n",
              "    <div class=\"colab-df-buttons\">\n",
              "\n",
              "  <div class=\"colab-df-container\">\n",
              "    <button class=\"colab-df-convert\" onclick=\"convertToInteractive('df-eb2db31c-8c9f-41c9-8e71-e4c23d7e82c5')\"\n",
              "            title=\"Convert this dataframe to an interactive table.\"\n",
              "            style=\"display:none;\">\n",
              "\n",
              "  <svg xmlns=\"http://www.w3.org/2000/svg\" height=\"24px\" viewBox=\"0 -960 960 960\">\n",
              "    <path d=\"M120-120v-720h720v720H120Zm60-500h600v-160H180v160Zm220 220h160v-160H400v160Zm0 220h160v-160H400v160ZM180-400h160v-160H180v160Zm440 0h160v-160H620v160ZM180-180h160v-160H180v160Zm440 0h160v-160H620v160Z\"/>\n",
              "  </svg>\n",
              "    </button>\n",
              "\n",
              "  <style>\n",
              "    .colab-df-container {\n",
              "      display:flex;\n",
              "      gap: 12px;\n",
              "    }\n",
              "\n",
              "    .colab-df-convert {\n",
              "      background-color: #E8F0FE;\n",
              "      border: none;\n",
              "      border-radius: 50%;\n",
              "      cursor: pointer;\n",
              "      display: none;\n",
              "      fill: #1967D2;\n",
              "      height: 32px;\n",
              "      padding: 0 0 0 0;\n",
              "      width: 32px;\n",
              "    }\n",
              "\n",
              "    .colab-df-convert:hover {\n",
              "      background-color: #E2EBFA;\n",
              "      box-shadow: 0px 1px 2px rgba(60, 64, 67, 0.3), 0px 1px 3px 1px rgba(60, 64, 67, 0.15);\n",
              "      fill: #174EA6;\n",
              "    }\n",
              "\n",
              "    .colab-df-buttons div {\n",
              "      margin-bottom: 4px;\n",
              "    }\n",
              "\n",
              "    [theme=dark] .colab-df-convert {\n",
              "      background-color: #3B4455;\n",
              "      fill: #D2E3FC;\n",
              "    }\n",
              "\n",
              "    [theme=dark] .colab-df-convert:hover {\n",
              "      background-color: #434B5C;\n",
              "      box-shadow: 0px 1px 3px 1px rgba(0, 0, 0, 0.15);\n",
              "      filter: drop-shadow(0px 1px 2px rgba(0, 0, 0, 0.3));\n",
              "      fill: #FFFFFF;\n",
              "    }\n",
              "  </style>\n",
              "\n",
              "    <script>\n",
              "      const buttonEl =\n",
              "        document.querySelector('#df-eb2db31c-8c9f-41c9-8e71-e4c23d7e82c5 button.colab-df-convert');\n",
              "      buttonEl.style.display =\n",
              "        google.colab.kernel.accessAllowed ? 'block' : 'none';\n",
              "\n",
              "      async function convertToInteractive(key) {\n",
              "        const element = document.querySelector('#df-eb2db31c-8c9f-41c9-8e71-e4c23d7e82c5');\n",
              "        const dataTable =\n",
              "          await google.colab.kernel.invokeFunction('convertToInteractive',\n",
              "                                                    [key], {});\n",
              "        if (!dataTable) return;\n",
              "\n",
              "        const docLinkHtml = 'Like what you see? Visit the ' +\n",
              "          '<a target=\"_blank\" href=https://colab.research.google.com/notebooks/data_table.ipynb>data table notebook</a>'\n",
              "          + ' to learn more about interactive tables.';\n",
              "        element.innerHTML = '';\n",
              "        dataTable['output_type'] = 'display_data';\n",
              "        await google.colab.output.renderOutput(dataTable, element);\n",
              "        const docLink = document.createElement('div');\n",
              "        docLink.innerHTML = docLinkHtml;\n",
              "        element.appendChild(docLink);\n",
              "      }\n",
              "    </script>\n",
              "  </div>\n",
              "\n",
              "\n",
              "<div id=\"df-55332aa0-d203-4a55-97d5-b44666258a0e\">\n",
              "  <button class=\"colab-df-quickchart\" onclick=\"quickchart('df-55332aa0-d203-4a55-97d5-b44666258a0e')\"\n",
              "            title=\"Suggest charts\"\n",
              "            style=\"display:none;\">\n",
              "\n",
              "<svg xmlns=\"http://www.w3.org/2000/svg\" height=\"24px\"viewBox=\"0 0 24 24\"\n",
              "     width=\"24px\">\n",
              "    <g>\n",
              "        <path d=\"M19 3H5c-1.1 0-2 .9-2 2v14c0 1.1.9 2 2 2h14c1.1 0 2-.9 2-2V5c0-1.1-.9-2-2-2zM9 17H7v-7h2v7zm4 0h-2V7h2v10zm4 0h-2v-4h2v4z\"/>\n",
              "    </g>\n",
              "</svg>\n",
              "  </button>\n",
              "\n",
              "<style>\n",
              "  .colab-df-quickchart {\n",
              "      --bg-color: #E8F0FE;\n",
              "      --fill-color: #1967D2;\n",
              "      --hover-bg-color: #E2EBFA;\n",
              "      --hover-fill-color: #174EA6;\n",
              "      --disabled-fill-color: #AAA;\n",
              "      --disabled-bg-color: #DDD;\n",
              "  }\n",
              "\n",
              "  [theme=dark] .colab-df-quickchart {\n",
              "      --bg-color: #3B4455;\n",
              "      --fill-color: #D2E3FC;\n",
              "      --hover-bg-color: #434B5C;\n",
              "      --hover-fill-color: #FFFFFF;\n",
              "      --disabled-bg-color: #3B4455;\n",
              "      --disabled-fill-color: #666;\n",
              "  }\n",
              "\n",
              "  .colab-df-quickchart {\n",
              "    background-color: var(--bg-color);\n",
              "    border: none;\n",
              "    border-radius: 50%;\n",
              "    cursor: pointer;\n",
              "    display: none;\n",
              "    fill: var(--fill-color);\n",
              "    height: 32px;\n",
              "    padding: 0;\n",
              "    width: 32px;\n",
              "  }\n",
              "\n",
              "  .colab-df-quickchart:hover {\n",
              "    background-color: var(--hover-bg-color);\n",
              "    box-shadow: 0 1px 2px rgba(60, 64, 67, 0.3), 0 1px 3px 1px rgba(60, 64, 67, 0.15);\n",
              "    fill: var(--button-hover-fill-color);\n",
              "  }\n",
              "\n",
              "  .colab-df-quickchart-complete:disabled,\n",
              "  .colab-df-quickchart-complete:disabled:hover {\n",
              "    background-color: var(--disabled-bg-color);\n",
              "    fill: var(--disabled-fill-color);\n",
              "    box-shadow: none;\n",
              "  }\n",
              "\n",
              "  .colab-df-spinner {\n",
              "    border: 2px solid var(--fill-color);\n",
              "    border-color: transparent;\n",
              "    border-bottom-color: var(--fill-color);\n",
              "    animation:\n",
              "      spin 1s steps(1) infinite;\n",
              "  }\n",
              "\n",
              "  @keyframes spin {\n",
              "    0% {\n",
              "      border-color: transparent;\n",
              "      border-bottom-color: var(--fill-color);\n",
              "      border-left-color: var(--fill-color);\n",
              "    }\n",
              "    20% {\n",
              "      border-color: transparent;\n",
              "      border-left-color: var(--fill-color);\n",
              "      border-top-color: var(--fill-color);\n",
              "    }\n",
              "    30% {\n",
              "      border-color: transparent;\n",
              "      border-left-color: var(--fill-color);\n",
              "      border-top-color: var(--fill-color);\n",
              "      border-right-color: var(--fill-color);\n",
              "    }\n",
              "    40% {\n",
              "      border-color: transparent;\n",
              "      border-right-color: var(--fill-color);\n",
              "      border-top-color: var(--fill-color);\n",
              "    }\n",
              "    60% {\n",
              "      border-color: transparent;\n",
              "      border-right-color: var(--fill-color);\n",
              "    }\n",
              "    80% {\n",
              "      border-color: transparent;\n",
              "      border-right-color: var(--fill-color);\n",
              "      border-bottom-color: var(--fill-color);\n",
              "    }\n",
              "    90% {\n",
              "      border-color: transparent;\n",
              "      border-bottom-color: var(--fill-color);\n",
              "    }\n",
              "  }\n",
              "</style>\n",
              "\n",
              "  <script>\n",
              "    async function quickchart(key) {\n",
              "      const quickchartButtonEl =\n",
              "        document.querySelector('#' + key + ' button');\n",
              "      quickchartButtonEl.disabled = true;  // To prevent multiple clicks.\n",
              "      quickchartButtonEl.classList.add('colab-df-spinner');\n",
              "      try {\n",
              "        const charts = await google.colab.kernel.invokeFunction(\n",
              "            'suggestCharts', [key], {});\n",
              "      } catch (error) {\n",
              "        console.error('Error during call to suggestCharts:', error);\n",
              "      }\n",
              "      quickchartButtonEl.classList.remove('colab-df-spinner');\n",
              "      quickchartButtonEl.classList.add('colab-df-quickchart-complete');\n",
              "    }\n",
              "    (() => {\n",
              "      let quickchartButtonEl =\n",
              "        document.querySelector('#df-55332aa0-d203-4a55-97d5-b44666258a0e button');\n",
              "      quickchartButtonEl.style.display =\n",
              "        google.colab.kernel.accessAllowed ? 'block' : 'none';\n",
              "    })();\n",
              "  </script>\n",
              "</div>\n",
              "\n",
              "    </div>\n",
              "  </div>\n"
            ],
            "application/vnd.google.colaboratory.intrinsic+json": {
              "type": "dataframe",
              "variable_name": "tweets",
              "summary": "{\n  \"name\": \"tweets\",\n  \"rows\": 14640,\n  \"fields\": [\n    {\n      \"column\": \"tweet_id\",\n      \"properties\": {\n        \"dtype\": \"number\",\n        \"std\": 779111158481835,\n        \"min\": 567588278875213824,\n        \"max\": 570310600460525568,\n        \"num_unique_values\": 14485,\n        \"samples\": [\n          567917894144770049,\n          567813976492417024,\n          569243676594941953\n        ],\n        \"semantic_type\": \"\",\n        \"description\": \"\"\n      }\n    },\n    {\n      \"column\": \"airline_sentiment\",\n      \"properties\": {\n        \"dtype\": \"category\",\n        \"num_unique_values\": 3,\n        \"samples\": [\n          \"neutral\",\n          \"positive\",\n          \"negative\"\n        ],\n        \"semantic_type\": \"\",\n        \"description\": \"\"\n      }\n    },\n    {\n      \"column\": \"airline_sentiment_confidence\",\n      \"properties\": {\n        \"dtype\": \"number\",\n        \"std\": 0.16282995909867212,\n        \"min\": 0.335,\n        \"max\": 1.0,\n        \"num_unique_values\": 1023,\n        \"samples\": [\n          0.6723,\n          0.3551,\n          0.6498\n        ],\n        \"semantic_type\": \"\",\n        \"description\": \"\"\n      }\n    },\n    {\n      \"column\": \"negativereason\",\n      \"properties\": {\n        \"dtype\": \"category\",\n        \"num_unique_values\": 10,\n        \"samples\": [\n          \"Damaged Luggage\",\n          \"Can't Tell\",\n          \"Lost Luggage\"\n        ],\n        \"semantic_type\": \"\",\n        \"description\": \"\"\n      }\n    },\n    {\n      \"column\": \"negativereason_confidence\",\n      \"properties\": {\n        \"dtype\": \"number\",\n        \"std\": 0.3304397596377297,\n        \"min\": 0.0,\n        \"max\": 1.0,\n        \"num_unique_values\": 1410,\n        \"samples\": [\n          0.6677,\n          0.6622,\n          0.6905\n        ],\n        \"semantic_type\": \"\",\n        \"description\": \"\"\n      }\n    },\n    {\n      \"column\": \"airline\",\n      \"properties\": {\n        \"dtype\": \"category\",\n        \"num_unique_values\": 6,\n        \"samples\": [\n          \"Virgin America\",\n          \"United\",\n          \"American\"\n        ],\n        \"semantic_type\": \"\",\n        \"description\": \"\"\n      }\n    },\n    {\n      \"column\": \"airline_sentiment_gold\",\n      \"properties\": {\n        \"dtype\": \"category\",\n        \"num_unique_values\": 3,\n        \"samples\": [\n          \"negative\",\n          \"neutral\",\n          \"positive\"\n        ],\n        \"semantic_type\": \"\",\n        \"description\": \"\"\n      }\n    },\n    {\n      \"column\": \"name\",\n      \"properties\": {\n        \"dtype\": \"string\",\n        \"num_unique_values\": 7701,\n        \"samples\": [\n          \"smckenna719\",\n          \"thisAnneM\",\n          \"jmspool\"\n        ],\n        \"semantic_type\": \"\",\n        \"description\": \"\"\n      }\n    },\n    {\n      \"column\": \"negativereason_gold\",\n      \"properties\": {\n        \"dtype\": \"category\",\n        \"num_unique_values\": 13,\n        \"samples\": [\n          \"Customer Service Issue\\nLost Luggage\",\n          \"Late Flight\\nCancelled Flight\",\n          \"Late Flight\\nFlight Attendant Complaints\"\n        ],\n        \"semantic_type\": \"\",\n        \"description\": \"\"\n      }\n    },\n    {\n      \"column\": \"retweet_count\",\n      \"properties\": {\n        \"dtype\": \"number\",\n        \"std\": 0,\n        \"min\": 0,\n        \"max\": 44,\n        \"num_unique_values\": 18,\n        \"samples\": [\n          0,\n          1,\n          6\n        ],\n        \"semantic_type\": \"\",\n        \"description\": \"\"\n      }\n    },\n    {\n      \"column\": \"text\",\n      \"properties\": {\n        \"dtype\": \"string\",\n        \"num_unique_values\": 14427,\n        \"samples\": [\n          \"@JetBlue so technically I could drive to JFK now and put in. Request for tomorrow's flight?\",\n          \"@united why I won't check my carry on. Watched a handler throw this bag -- miss the conveyer belt -- sat there 10 min http://t.co/lyoocx5mSH\",\n          \"@SouthwestAir you guys are so clever \\ud83d\\ude03 http://t.co/qn5odUGFqK\"\n        ],\n        \"semantic_type\": \"\",\n        \"description\": \"\"\n      }\n    },\n    {\n      \"column\": \"tweet_coord\",\n      \"properties\": {\n        \"dtype\": \"category\",\n        \"num_unique_values\": 832,\n        \"samples\": [\n          \"[40.04915451, -75.10364317]\",\n          \"[32.97609561, -96.53349238]\",\n          \"[26.37852293, -81.78472152]\"\n        ],\n        \"semantic_type\": \"\",\n        \"description\": \"\"\n      }\n    },\n    {\n      \"column\": \"tweet_created\",\n      \"properties\": {\n        \"dtype\": \"object\",\n        \"num_unique_values\": 14247,\n        \"samples\": [\n          \"2015-02-23 07:40:55 -0800\",\n          \"2015-02-21 16:20:09 -0800\",\n          \"2015-02-21 21:33:21 -0800\"\n        ],\n        \"semantic_type\": \"\",\n        \"description\": \"\"\n      }\n    },\n    {\n      \"column\": \"tweet_location\",\n      \"properties\": {\n        \"dtype\": \"category\",\n        \"num_unique_values\": 3081,\n        \"samples\": [\n          \"Oakland, California\",\n          \"Beverly Hills, CA\",\n          \"Austin, TX/NY, NY\"\n        ],\n        \"semantic_type\": \"\",\n        \"description\": \"\"\n      }\n    },\n    {\n      \"column\": \"user_timezone\",\n      \"properties\": {\n        \"dtype\": \"category\",\n        \"num_unique_values\": 85,\n        \"samples\": [\n          \"Helsinki\",\n          \"Eastern Time (US & Canada)\",\n          \"America/Detroit\"\n        ],\n        \"semantic_type\": \"\",\n        \"description\": \"\"\n      }\n    }\n  ]\n}"
            }
          },
          "metadata": {},
          "execution_count": 3
        }
      ],
      "source": [
        "# Lectura de la información de archivo .zip\n",
        "tweets = pd.read_csv('https://raw.githubusercontent.com/albahnsen/MIAD_ML_and_NLP/main/datasets/Tweets.zip', index_col=0)\n",
        "\n",
        "# Visualización dataset\n",
        "tweets.head()"
      ]
    },
    {
      "cell_type": "code",
      "execution_count": 4,
      "metadata": {
        "colab": {
          "base_uri": "https://localhost:8080/"
        },
        "id": "7gwNWbnfLiNn",
        "outputId": "8333fc31-50ce-4ff4-f755-6d53ded489ff"
      },
      "outputs": [
        {
          "output_type": "execute_result",
          "data": {
            "text/plain": [
              "(14640, 14)"
            ]
          },
          "metadata": {},
          "execution_count": 4
        }
      ],
      "source": [
        "# Impresión tamaño del cojunto de datos\n",
        "tweets.shape"
      ]
    },
    {
      "cell_type": "markdown",
      "metadata": {
        "id": "TrPNPJTsLiNo"
      },
      "source": [
        "### Análisis descriptivo"
      ]
    },
    {
      "cell_type": "code",
      "execution_count": 5,
      "metadata": {
        "colab": {
          "base_uri": "https://localhost:8080/"
        },
        "id": "pwdFzXg3LiNo",
        "outputId": "d317617d-aaa7-46ce-fd36-288054832851"
      },
      "outputs": [
        {
          "output_type": "execute_result",
          "data": {
            "text/plain": [
              "airline_sentiment\n",
              "negative    9178\n",
              "neutral     3099\n",
              "positive    2363\n",
              "Name: count, dtype: int64"
            ]
          },
          "metadata": {},
          "execution_count": 5
        }
      ],
      "source": [
        "# Cuenta de tweets por cada sentimiento\n",
        "tweets['airline_sentiment'].value_counts()"
      ]
    },
    {
      "cell_type": "code",
      "execution_count": 6,
      "metadata": {
        "colab": {
          "base_uri": "https://localhost:8080/"
        },
        "id": "zKKYi9omLiNo",
        "outputId": "87b6cd1f-3ff6-4305-ea69-f32840ee8f6d"
      },
      "outputs": [
        {
          "output_type": "execute_result",
          "data": {
            "text/plain": [
              "airline\n",
              "United            3822\n",
              "US Airways        2913\n",
              "American          2759\n",
              "Southwest         2420\n",
              "Delta             2222\n",
              "Virgin America     504\n",
              "Name: count, dtype: int64"
            ]
          },
          "metadata": {},
          "execution_count": 6
        }
      ],
      "source": [
        "# Cuenta de tweets por cada aerolínea\n",
        "tweets['airline'].value_counts()"
      ]
    },
    {
      "cell_type": "code",
      "execution_count": 7,
      "metadata": {
        "colab": {
          "base_uri": "https://localhost:8080/",
          "height": 582
        },
        "id": "F0F5f0J3LiNp",
        "outputId": "defc49d7-4d95-4476-a326-53ade09953bd"
      },
      "outputs": [
        {
          "output_type": "execute_result",
          "data": {
            "text/plain": [
              "<Axes: title={'center': 'Sentiminetos por aerolínea'}, xlabel='airline'>"
            ]
          },
          "metadata": {},
          "execution_count": 7
        },
        {
          "output_type": "display_data",
          "data": {
            "text/plain": [
              "<Figure size 1000x600 with 1 Axes>"
            ],
            "image/png": "[encoded data removed]"
          },
          "metadata": {}
        }
      ],
      "source": [
        "# Plot con cuenta de tweets por cada aerolínea y sentimiento\n",
        "pd.crosstab(index = tweets[\"airline\"],columns = tweets[\"airline_sentiment\"]).plot(kind='bar',figsize=(10, 6),alpha=0.5,rot=0,stacked=True,title=\"Sentiminetos por aerolínea\")"
      ]
    },
    {
      "cell_type": "markdown",
      "metadata": {
        "id": "UYUDWTeuLiNp"
      },
      "source": [
        "### Liberias y Variables de interés y predicción"
      ]
    },
    {
      "cell_type": "code",
      "execution_count": 8,
      "metadata": {
        "id": "VLAszHitLiNp",
        "colab": {
          "base_uri": "https://localhost:8080/"
        },
        "outputId": "331516d0-3e7c-4889-fe29-6d463b5f2f88"
      },
      "outputs": [
        {
          "output_type": "stream",
          "name": "stderr",
          "text": [
            "[nltk_data] Downloading package wordnet to /root/nltk_data...\n"
          ]
        },
        {
          "output_type": "execute_result",
          "data": {
            "text/plain": [
              "True"
            ]
          },
          "metadata": {},
          "execution_count": 8
        }
      ],
      "source": [
        "from sklearn.model_selection import train_test_split, cross_val_score\n",
        "from sklearn.feature_extraction.text import CountVectorizer, TfidfVectorizer\n",
        "from sklearn.ensemble import RandomForestClassifier\n",
        "from nltk.stem.snowball import SnowballStemmer\n",
        "from nltk.stem import WordNetLemmatizer\n",
        "from sklearn.metrics import accuracy_score\n",
        "\n",
        "from nltk.stem import WordNetLemmatizer\n",
        "wordnet_lemmatizer = WordNetLemmatizer()\n",
        "import nltk\n",
        "nltk.download('wordnet')"
      ]
    },
    {
      "cell_type": "code",
      "execution_count": 9,
      "metadata": {
        "id": "dXtgnXS8LiNq"
      },
      "outputs": [],
      "source": [
        "# Separación de variables predictoras (X) y de variable de interés (y)\n",
        "X = tweets['text']\n",
        "y = tweets['airline_sentiment'].map({'negative':-1,'neutral':0,'positive':1})"
      ]
    },
    {
      "cell_type": "code",
      "execution_count": 10,
      "metadata": {
        "id": "OKVHSpSmLiNq"
      },
      "outputs": [],
      "source": [
        "# Separación de datos en set de entrenamiento y test\n",
        "X_train, X_test, y_train, y_test = train_test_split(X, y, test_size=0.33, random_state=4)"
      ]
    },
    {
      "cell_type": "markdown",
      "metadata": {
        "id": "AEOfbT77LiNq"
      },
      "source": [
        "### Punto 1 - Uso de CountVectorizer\n",
        "\n",
        "En la celda 1 creen un modelo de random forest con la libreria sklearn que prediga el sentimiento de los tweets usando los set de entrenamiento y test definidos anteriormente. Usen la función **CountVectorizer** y presenten el desempeño del modelo con la métrica del acurracy.\n",
        "\n",
        "Recuerden que el preprocesamiento que se haga sobre los datos de entrenamiento  (*.fit_transform()*) deben ser aplicado al set de test (*.transform()*)."
      ]
    },
    {
      "cell_type": "code",
      "execution_count": 24,
      "metadata": {
        "colab": {
          "base_uri": "https://localhost:8080/"
        },
        "id": "C6iSXhQgLiNq",
        "outputId": "b2799d80-6f19-4b6d-fa5d-9b2aa9935b53"
      },
      "outputs": [
        {
          "output_type": "stream",
          "name": "stdout",
          "text": [
            "Accuracy del modelo: 0.7591059602649006\n"
          ]
        }
      ],
      "source": [
        "# Celda 1\n",
        "vec_1 = CountVectorizer()\n",
        "X_train_vec = vec_1.fit_transform(X_train)\n",
        "X_test_vec = vec_1.transform(X_test)\n",
        "rf_model = RandomForestClassifier(random_state=42)\n",
        "rf_model.fit(X_train_vec, y_train)\n",
        "y_pred = rf_model.predict(X_test_vec)\n",
        "accuracy = accuracy_score(y_test, y_pred)\n",
        "print(\"Accuracy del modelo:\", accuracy)"
      ]
    },
    {
      "cell_type": "markdown",
      "source": [
        "La precisión obtenida fue aproximadamente 0.759 (75.9%). Esto indica que el modelo pudo predecir correctamente el sentimiento de los tweets en alrededor del 75.9% de los casos en el conjunto de prueba."
      ],
      "metadata": {
        "id": "04S22D_xN13q"
      }
    },
    {
      "cell_type": "markdown",
      "metadata": {
        "id": "9gP2XNokLiNr"
      },
      "source": [
        "### Punto 2 - Eliminación de Stopwords\n",
        "\n",
        "En la celda 2 creen un modelo de random forest con la libreria sklearn que prediga el sentimiento de los tweets usando los set de entrenamiento y test definidos anteriormente. Usen la función CountVectorizer, **eliminen stopwords** y presenten el desempeño del modelo con la métrica del acurracy.\n",
        "\n",
        "Recuerden que el preprocesamiento que se haga sobre los datos de entrenamiento  (*.fit_transform()*) deben ser aplicado al set de test (*.transform()*)."
      ]
    },
    {
      "cell_type": "code",
      "execution_count": 25,
      "metadata": {
        "colab": {
          "base_uri": "https://localhost:8080/"
        },
        "id": "CsPRhjdGLiNr",
        "outputId": "e2fb10a9-7b02-4e65-da04-497162676dd9"
      },
      "outputs": [
        {
          "output_type": "stream",
          "name": "stdout",
          "text": [
            "Accuracy del modelo con eliminación de stopwords: 0.7466887417218543\n"
          ]
        }
      ],
      "source": [
        "# Celda 2\n",
        "vec_2 = CountVectorizer(stop_words='english')\n",
        "X_train_vec_2 = vec_2.fit_transform(X_train)\n",
        "X_test_vec_2 = vec_2.transform(X_test)\n",
        "rf_model = RandomForestClassifier(random_state=42)\n",
        "rf_model.fit(X_train_vec_2, y_train)\n",
        "y_pred = rf_model.predict(X_test_vec_2)\n",
        "\n",
        "accuracy_2 = accuracy_score(y_test, y_pred)\n",
        "print(\"Accuracy del modelo con eliminación de stopwords:\", accuracy_2)"
      ]
    },
    {
      "cell_type": "markdown",
      "source": [
        "La precisión reportada es de aproximadamente 0.746 (74.6%). Esto es ligeramente inferior al modelo base que no utilizaba la eliminación de stopwords y que obtuvo una precisión de aproximadamente 0.759 (75.9%).\n",
        "\n",
        "La reducción en la precisión sugiere que la eliminación de stopwords puede haber eliminado algunas palabras que, aunque comúnmente no son informativas, en este contexto particular podrían haber tenido importancia para determinar el sentimiento.\n"
      ],
      "metadata": {
        "id": "su7nTU3KN7To"
      }
    },
    {
      "cell_type": "markdown",
      "metadata": {
        "id": "gwG2d9McLiNr"
      },
      "source": [
        "### Punto 3 - Lematización con verbos\n",
        "\n",
        "En la celda 3 creen un modelo de random forest con la libreria sklearn que prediga el sentimiento de los tweets usando los set de entrenamiento y test definidos anteriormente. Usen la función CountVectorizer, **lematizen el texto con verbos** y presenten el desempeño del modelo con la métrica del acurracy.\n",
        "\n",
        "Recuerden que el preprocesamiento que se haga sobre los datos de entrenamiento  (*.fit_transform()*) deben ser aplicado al set de test (*.transform()*)."
      ]
    },
    {
      "cell_type": "code",
      "execution_count": 26,
      "metadata": {
        "id": "RVpTb-v5LiNr",
        "colab": {
          "base_uri": "https://localhost:8080/"
        },
        "outputId": "031e9573-5f22-45da-e8d1-07661cd55cab"
      },
      "outputs": [
        {
          "output_type": "stream",
          "name": "stderr",
          "text": [
            "[nltk_data] Downloading package punkt to /root/nltk_data...\n",
            "[nltk_data]   Package punkt is already up-to-date!\n"
          ]
        },
        {
          "output_type": "stream",
          "name": "stdout",
          "text": [
            "Accuracy del modelo: 0.7601407284768212\n"
          ]
        }
      ],
      "source": [
        "# Celda 3\n",
        "import nltk\n",
        "nltk.download('punkt')\n",
        "def lemmatize_text(text):\n",
        "\n",
        "    # Tokenizar el texto en palabras\n",
        "    words = nltk.word_tokenize(text)\n",
        "    # Lematizar cada palabra en la lista de palabras\n",
        "    lemmatized_words = [wordnet_lemmatizer.lemmatize(word, pos='v') for word in words]\n",
        "    # Unir las palabras lematizadas en un solo texto\n",
        "    lemmatized_text = \" \".join(lemmatized_words)\n",
        "    return lemmatized_text\n",
        "\n",
        "# Lematizar cada texto en X_data\n",
        "X_train_lemmatized = [lemmatize_text(text) for text in X_train]\n",
        "X_test_lemmatized = [lemmatize_text(text) for text in X_test]\n",
        "\n",
        "vec_1 = CountVectorizer()\n",
        "X_train_vec_lemm = vec_1.fit_transform(X_train_lemmatized)\n",
        "X_test_vec_lemm = vec_1.transform(X_test_lemmatized)\n",
        "rf_model = RandomForestClassifier(random_state=42)\n",
        "rf_model.fit(X_train_vec_lemm, y_train)\n",
        "y_pred = rf_model.predict(X_test_vec_lemm)\n",
        "accuracy_3 = accuracy_score(y_test, y_pred)\n",
        "print(\"Accuracy del modelo:\", accuracy_3)"
      ]
    },
    {
      "cell_type": "markdown",
      "source": [
        " El modelo logra una precisión de aproximadamente 0.760 (76.0%), lo que está ligeramente mejor en comparación con el modelo base (0.759) y el modelo con eliminación de stopwords (0.746).\n",
        "\n",
        " Aunque la mejora es mínima, es interesante notar que la lematización solo de verbos tiene un impacto positivo en comparación con la eliminación de stopwords, que redujo la precisión. Esto podría indicar que para este conjunto de datos específico y la tarea de análisis de sentimientos, conservar más información contextual (como stopwords) podría ser más beneficioso que eliminarla."
      ],
      "metadata": {
        "id": "nSUHxBXHOn6o"
      }
    },
    {
      "cell_type": "markdown",
      "metadata": {
        "id": "UmsAGk7CLiNs"
      },
      "source": [
        "### Punto 4 - Multiples técnicas\n",
        "\n",
        "En la celda 4 creen un modelo de random forest con la libreria sklearn que prediga el sentimiento de los tweets usando los set de entrenamiento y test definidos anteriormente. Usen la función **CountVectorizer, eliminen stopwords, lematizen el texto con verbos** y presenten el desempeño del modelo con la métrica del acurracy.\n",
        "\n",
        "Recuerden que el preprocesamiento que se haga sobre los datos de entrenamiento  (*.fit_transform()*) deben ser aplicado al set de test (*.transform()*)."
      ]
    },
    {
      "cell_type": "code",
      "execution_count": 27,
      "metadata": {
        "id": "DzM-y9aVLiNs",
        "colab": {
          "base_uri": "https://localhost:8080/"
        },
        "outputId": "2dc4d9b5-4c71-49bd-8cdb-744dda95ade7"
      },
      "outputs": [
        {
          "output_type": "stream",
          "name": "stdout",
          "text": [
            "Accuracy del modelo: 0.7531043046357616\n"
          ]
        }
      ],
      "source": [
        "# Celda 4\n",
        "def lemmatize_text(text):\n",
        "    # Tokenizar el texto en palabras\n",
        "    words = nltk.word_tokenize(text)\n",
        "    # Lematizar cada palabra en la lista de palabras\n",
        "    lemmatized_words = [wordnet_lemmatizer.lemmatize(word, pos='v') for word in words]\n",
        "    # Unir las palabras lematizadas en un solo texto\n",
        "    lemmatized_text = \" \".join(lemmatized_words)\n",
        "    return lemmatized_text\n",
        "\n",
        "# Lematizar cada texto en X_data\n",
        "X_train_4 = [lemmatize_text(text) for text in X_train]\n",
        "X_test_4 = [lemmatize_text(text) for text in X_test]\n",
        "\n",
        "vec_1 = CountVectorizer(stop_words='english')\n",
        "X_train_vec_4 = vec_1.fit_transform(X_train_4)\n",
        "X_test_vec_4 = vec_1.transform(X_test_4)\n",
        "rf_model = RandomForestClassifier(random_state=42)\n",
        "rf_model.fit(X_train_vec_4, y_train)\n",
        "y_pred = rf_model.predict(X_test_vec_4)\n",
        "accuracy_4 = accuracy_score(y_test, y_pred)\n",
        "print(\"Accuracy del modelo:\", accuracy_4)"
      ]
    },
    {
      "cell_type": "markdown",
      "source": [
        "La precisión alcanzada es aproximadamente 0.753 (75.3%). Esto es comparable con las otras técnicas utilizadas en los puntos anteriores, donde la precisión varió ligeramente entre 0.746 y 0.760.\n",
        "El modelo que combina lematización completa y eliminación de stopwords no muestra una mejora significativa en comparación con los modelos que usan solo una de estas técnicas. Esto podría indicar que, aunque cada técnica individualmente tiene sus beneficios, su combinación no necesariamente resulta en una mejora sustancial para este conjunto de datos."
      ],
      "metadata": {
        "id": "HEb0o3paOpI3"
      }
    },
    {
      "cell_type": "markdown",
      "metadata": {
        "id": "JXvrzECmLiNs"
      },
      "source": [
        "### Punto 5 - Comparación y análisis de resultados\n",
        "\n",
        "En la celda 5 comparen los resultados obtenidos de los diferentes modelos (random forest) y comenten las ventajas del mejor modelo y las desventajas del modelo con el menor desempeño."
      ]
    },
    {
      "cell_type": "code",
      "execution_count": 29,
      "metadata": {
        "id": "jMjle1L-LiNs",
        "colab": {
          "base_uri": "https://localhost:8080/",
          "height": 565
        },
        "outputId": "01f7ce20-db45-4e0b-ce62-d4be8343dbce"
      },
      "outputs": [
        {
          "output_type": "display_data",
          "data": {
            "text/plain": [
              "<Figure size 1000x600 with 1 Axes>"
            ],
            "image/png": "[encoded data removed]"
          },
          "metadata": {}
        }
      ],
      "source": [
        "# Celda 5\n",
        "import matplotlib.pyplot as plt\n",
        "\n",
        "\n",
        "modelos = ['Base', 'Sin Stopwords', 'Lematización con verbos', 'Stopwords + Lematización']\n",
        "precisiones = [accuracy, accuracy_2, accuracy_3, accuracy_4]\n",
        "\n",
        "# Creando el gráfico de barras\n",
        "plt.figure(figsize=(10, 6))\n",
        "plt.bar(modelos, precisiones, color=['blue', 'green', 'red', 'purple'])\n",
        "\n",
        "plt.title('Comparación de la precisión de los modelos de análisis de sentimientos')\n",
        "plt.xlabel('Modelo')\n",
        "plt.ylabel('Precisión')\n",
        "plt.ylim(0.74, 0.77)\n",
        "\n",
        "for i in range(len(precisiones)):\n",
        "    plt.text(i, precisiones[i] + 0.001, f'{precisiones[i]:.3f}', ha='center')\n",
        "\n",
        "# Mostrar el gráfico\n",
        "plt.show()\n"
      ]
    },
    {
      "cell_type": "markdown",
      "source": [
        "Consistencia en precisión: Todos los modelos presentaron exactitudes relativamente cercanas, variando entre 0.746 y 0.760. Esto sugiere que, para este conjunto de datos específico, las técnicas de preprocesamiento adicionales no ofrecen una mejora significativa en la capacidad del modelo para predecir el sentimiento.\n",
        "\n",
        "Impacto de la eliminación de stopwords: Contrariamente a lo esperado, la eliminación de stopwords redujo ligeramente la precisión. Esto podría indicar que algunas stopwords podrían tener un papel más significativo en la connotación del sentimiento de los tweets.\n",
        "\n",
        "Lematización: La lematización por sí sola mostró una leve mejora en la precisión en comparación con el modelo base. Esto puede ser porque normalizar las palabras a su raíz ayuda a reducir la dispersión de los datos y mejora la capacidad del modelo para generalizar a partir de términos similares.\n",
        "\n",
        "En este caso, la lematización parece ser la técnica más prometedora si se elige una para mejorar el desempeño. Sin embargo, dado que la mejora es mínima, sería razonable explorar otras técnicas de preprocesamiento o incluso ajustar otros parámetros del modelo (como la profundidad del árbol en el RandomForest) para buscar mejoras significativas."
      ],
      "metadata": {
        "id": "GB64voDDBNDP"
      }
    }
  ],
  "metadata": {
    "kernelspec": {
      "display_name": "Python 3",
      "language": "python",
      "name": "python3"
    },
    "language_info": {
      "codemirror_mode": {
        "name": "ipython",
        "version": 3
      },
      "file_extension": ".py",
      "mimetype": "text/x-python",
      "name": "python",
      "nbconvert_exporter": "python",
      "pygments_lexer": "ipython3",
      "version": "3.7.3"
    },
    "colab": {
      "provenance": []
    }
  },
  "nbformat": 4,
  "nbformat_minor": 0
}